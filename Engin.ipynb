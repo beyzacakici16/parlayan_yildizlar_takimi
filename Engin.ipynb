{
  "cells": [
    {
      "cell_type": "code",
      "execution_count": 3,
      "metadata": {
        "id": "KcAueoHES0y9"
      },
      "outputs": [],
      "source": [
        "from google.colab import drive"
      ]
    },
    {
      "cell_type": "code",
      "execution_count": 4,
      "metadata": {
        "colab": {
          "base_uri": "https://localhost:8080/"
        },
        "id": "rd94iRp-S1bZ",
        "outputId": "d9ea1fe4-a507-4e7c-e3fb-71121e7afbca"
      },
      "outputs": [
        {
          "name": "stdout",
          "output_type": "stream",
          "text": [
            "Mounted at /content/gdrive\n"
          ]
        }
      ],
      "source": [
        "drive.mount('/content/gdrive')"
      ]
    },
    {
      "cell_type": "code",
      "execution_count": 5,
      "metadata": {
        "id": "G7BpK6JfTMTh"
      },
      "outputs": [],
      "source": [
        "import pandas as pd\n",
        "import numpy as np\n",
        "import matplotlib.pyplot as plt\n",
        "import seaborn as sns"
      ]
    },
    {
      "cell_type": "code",
      "execution_count": 7,
      "metadata": {
        "id": "HT_g-jtPTaKk"
      },
      "outputs": [],
      "source": [
        "df = pd.read_excel(\"/content/gdrive/MyDrive/train.xlsx\")"
      ]
    },
    {
      "cell_type": "code",
      "execution_count": 8,
      "metadata": {
        "colab": {
          "base_uri": "https://localhost:8080/"
        },
        "id": "o-qnkeUltkKl",
        "outputId": "2e180108-0647-4225-bf6c-64b69734db6c"
      },
      "outputs": [
        {
          "data": {
            "text/plain": [
              "<bound method NDFrame.head of             A1      A2      A3      A4    A5 A6    A7      A8  A9  A10  ...  \\\n",
              "0        69769    -946  0.1613  0.7960  Panl  N  Bus2  0.0742   0    2  ...   \n",
              "1       236977     -92     NaN     NaN   NaN  Y  Othr     NaN   0    3  ...   \n",
              "2       168821   -1646  0.1124  0.8504  Panl  N  Bus3  0.0387   0    2  ...   \n",
              "3        94708   -1651  0.0263     NaN  Blok  N  Bus3     NaN   0    2  ...   \n",
              "4        84556    -977     NaN     NaN   NaN  N  Rest     NaN   0    2  ...   \n",
              "...        ...     ...     ...     ...   ... ..   ...     ...  ..  ...  ...   \n",
              "246003  248161    -595     NaN     NaN   NaN  N  Bus3     NaN   0    2  ...   \n",
              "246004  257069   -4334  0.1145  0.8368  Panl  N  Mede  0.1180   0    2  ...   \n",
              "246005  154350  365243  0.3025  0.6056  Mixd  N  XNAA  0.2233   0    2  ...   \n",
              "246006  148183  365243     NaN     NaN   NaN  N  XNAA     NaN   0    3  ...   \n",
              "246007    5167  365243     NaN     NaN   NaN  Y  XNAA     NaN   0    2  ...   \n",
              "\n",
              "        A113  A114    A115    A116 A117  A118 A119    A120  A121  A122  \n",
              "0        1.0 -4670  0.9851  0.0000    0  Mard  0.0  0.3333     0     0  \n",
              "1        NaN -1994     NaN     NaN    0  Mard  0.0     NaN     0     0  \n",
              "2        2.0 -2842  0.9891  0.0000    0  Sind  0.0  0.3750     0     1  \n",
              "3        4.0 -1345  0.9682  0.0000    0  Sind  0.0  0.0417     0     1  \n",
              "4        NaN  -852     NaN     NaN    0  Sind  0.0     NaN     0     0  \n",
              "...      ...   ...     ...     ...  ...   ...  ...     ...   ...   ...  \n",
              "246003   NaN -4420     NaN     NaN    0  Mard  0.0     NaN     0     0  \n",
              "246004   4.0 -2561  0.9881  0.0000    0  Sind  0.0  0.3333     0     0  \n",
              "246005   1.0 -4636  0.9712  0.0631    0  Cive  0.0  0.1667     0     0  \n",
              "246006   5.0 -4636     NaN     NaN    0  Mard  0.0     NaN     0     1  \n",
              "246007   3.0 -4266     NaN     NaN    0  Mard  0.0     NaN     0     0  \n",
              "\n",
              "[246008 rows x 122 columns]>"
            ]
          },
          "execution_count": 8,
          "metadata": {},
          "output_type": "execute_result"
        }
      ],
      "source": [
        "df.head"
      ]
    },
    {
      "cell_type": "code",
      "execution_count": 9,
      "metadata": {
        "colab": {
          "base_uri": "https://localhost:8080/"
        },
        "id": "Mhq-Nk8wtmtf",
        "outputId": "1241a01b-76d8-49fe-9f43-398bdccbb974"
      },
      "outputs": [
        {
          "data": {
            "text/plain": [
              "(246008, 122)"
            ]
          },
          "execution_count": 9,
          "metadata": {},
          "output_type": "execute_result"
        }
      ],
      "source": [
        "df.shape"
      ]
    },
    {
      "cell_type": "code",
      "execution_count": 10,
      "metadata": {
        "colab": {
          "base_uri": "https://localhost:8080/"
        },
        "id": "Vqa1r4Ast2_d",
        "outputId": "3e6d02b3-3825-4d8d-ce24-c99463cc9020"
      },
      "outputs": [
        {
          "data": {
            "text/plain": [
              "<bound method DataFrame.info of             A1      A2      A3      A4    A5 A6    A7      A8  A9  A10  ...  \\\n",
              "0        69769    -946  0.1613  0.7960  Panl  N  Bus2  0.0742   0    2  ...   \n",
              "1       236977     -92     NaN     NaN   NaN  Y  Othr     NaN   0    3  ...   \n",
              "2       168821   -1646  0.1124  0.8504  Panl  N  Bus3  0.0387   0    2  ...   \n",
              "3        94708   -1651  0.0263     NaN  Blok  N  Bus3     NaN   0    2  ...   \n",
              "4        84556    -977     NaN     NaN   NaN  N  Rest     NaN   0    2  ...   \n",
              "...        ...     ...     ...     ...   ... ..   ...     ...  ..  ...  ...   \n",
              "246003  248161    -595     NaN     NaN   NaN  N  Bus3     NaN   0    2  ...   \n",
              "246004  257069   -4334  0.1145  0.8368  Panl  N  Mede  0.1180   0    2  ...   \n",
              "246005  154350  365243  0.3025  0.6056  Mixd  N  XNAA  0.2233   0    2  ...   \n",
              "246006  148183  365243     NaN     NaN   NaN  N  XNAA     NaN   0    3  ...   \n",
              "246007    5167  365243     NaN     NaN   NaN  Y  XNAA     NaN   0    2  ...   \n",
              "\n",
              "        A113  A114    A115    A116 A117  A118 A119    A120  A121  A122  \n",
              "0        1.0 -4670  0.9851  0.0000    0  Mard  0.0  0.3333     0     0  \n",
              "1        NaN -1994     NaN     NaN    0  Mard  0.0     NaN     0     0  \n",
              "2        2.0 -2842  0.9891  0.0000    0  Sind  0.0  0.3750     0     1  \n",
              "3        4.0 -1345  0.9682  0.0000    0  Sind  0.0  0.0417     0     1  \n",
              "4        NaN  -852     NaN     NaN    0  Sind  0.0     NaN     0     0  \n",
              "...      ...   ...     ...     ...  ...   ...  ...     ...   ...   ...  \n",
              "246003   NaN -4420     NaN     NaN    0  Mard  0.0     NaN     0     0  \n",
              "246004   4.0 -2561  0.9881  0.0000    0  Sind  0.0  0.3333     0     0  \n",
              "246005   1.0 -4636  0.9712  0.0631    0  Cive  0.0  0.1667     0     0  \n",
              "246006   5.0 -4636     NaN     NaN    0  Mard  0.0     NaN     0     1  \n",
              "246007   3.0 -4266     NaN     NaN    0  Mard  0.0     NaN     0     0  \n",
              "\n",
              "[246008 rows x 122 columns]>"
            ]
          },
          "execution_count": 10,
          "metadata": {},
          "output_type": "execute_result"
        }
      ],
      "source": [
        "df.info"
      ]
    },
    {
      "cell_type": "markdown",
      "metadata": {
        "id": "j8dnJDKzdsx2"
      },
      "source": [
        "# Yeni Bölüm"
      ]
    },
    {
      "cell_type": "code",
      "execution_count": 13,
      "metadata": {
        "colab": {
          "base_uri": "https://localhost:8080/"
        },
        "id": "aYmuyeczur4K",
        "outputId": "c9281be0-78ab-40bc-95ee-a2c8dd08000f"
      },
      "outputs": [
        {
          "data": {
            "text/plain": [
              "A1        int64\n",
              "A2        int64\n",
              "A3      float64\n",
              "A4      float64\n",
              "A5       object\n",
              "         ...   \n",
              "A118     object\n",
              "A119    float64\n",
              "A120    float64\n",
              "A121      int64\n",
              "A122      int64\n",
              "Length: 122, dtype: object"
            ]
          },
          "execution_count": 13,
          "metadata": {},
          "output_type": "execute_result"
        }
      ],
      "source": [
        "df.dtypes"
      ]
    },
    {
      "cell_type": "code",
      "execution_count": 11,
      "metadata": {
        "colab": {
          "base_uri": "https://localhost:8080/"
        },
        "id": "rWm_ztzSuybB",
        "outputId": "e83563b7-2ae2-4494-8085-2c8d11571af4"
      },
      "outputs": [
        {
          "data": {
            "text/plain": [
              "A1           0\n",
              "A2           0\n",
              "A3      143829\n",
              "A4      163543\n",
              "A5      124975\n",
              "         ...  \n",
              "A118         0\n",
              "A119       811\n",
              "A120    122297\n",
              "A121         0\n",
              "A122         0\n",
              "Length: 122, dtype: int64"
            ]
          },
          "execution_count": 11,
          "metadata": {},
          "output_type": "execute_result"
        }
      ],
      "source": [
        "df.isnull().sum()\n"
      ]
    },
    {
      "cell_type": "code",
      "execution_count": 18,
      "metadata": {
        "id": "7a1qjnmJefua"
      },
      "outputs": [],
      "source": [
        "NaColumn = df.columns[df.isnull().mean()>=0.20]\n",
        "df1= df.drop(NaColumn, axis=1)"
      ]
    },
    {
      "cell_type": "code",
      "execution_count": 19,
      "metadata": {
        "colab": {
          "base_uri": "https://localhost:8080/"
        },
        "id": "DvC5BoT0et1J",
        "outputId": "dd1a71c6-47c5-4b50-a2d2-521e568e08fb"
      },
      "outputs": [
        {
          "data": {
            "text/plain": [
              "A1        0\n",
              "A2        0\n",
              "A6        0\n",
              "A7        0\n",
              "A9        0\n",
              "       ... \n",
              "A117      0\n",
              "A118      0\n",
              "A119    811\n",
              "A121      0\n",
              "A122      0\n",
              "Length: 72, dtype: int64"
            ]
          },
          "execution_count": 19,
          "metadata": {},
          "output_type": "execute_result"
        }
      ],
      "source": [
        "df1.isnull().sum()"
      ]
    },
    {
      "cell_type": "code",
      "execution_count": 1,
      "metadata": {
        "colab": {
          "base_uri": "https://localhost:8080/",
          "height": 130
        },
        "id": "ce_rv07PhO9p",
        "outputId": "6b338e2b-2908-4f5b-d471-e56165760faa"
      },
      "outputs": [
        {
          "name": "stdout",
          "output_type": "stream",
          "text": [
            "This update is done by Nihansu.\n"
          ]
        }
      ],
      "source": [
        "print(\"This update is done by Nihansu Padem.\")"
      ]
    },
    {
      "cell_type": "code",
      "execution_count": null,
      "metadata": {},
      "outputs": [],
      "source": []
    }
  ],
  "metadata": {
    "colab": {
      "provenance": []
    },
    "kernelspec": {
      "display_name": "Python 3",
      "name": "python3"
    },
    "language_info": {
      "codemirror_mode": {
        "name": "ipython",
        "version": 3
      },
      "file_extension": ".py",
      "mimetype": "text/x-python",
      "name": "python",
      "nbconvert_exporter": "python",
      "pygments_lexer": "ipython3",
      "version": "3.9.7"
    }
  },
  "nbformat": 4,
  "nbformat_minor": 0
}
