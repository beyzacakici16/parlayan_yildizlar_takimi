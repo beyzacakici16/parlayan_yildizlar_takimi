{
  "nbformat": 4,
  "nbformat_minor": 0,
  "metadata": {
    "colab": {
      "provenance": []
    },
    "kernelspec": {
      "name": "python3",
      "display_name": "Python 3"
    },
    "language_info": {
      "name": "python"
    }
  },
  "cells": [
    {
      "cell_type": "code",
      "execution_count": 3,
      "metadata": {
        "id": "KcAueoHES0y9"
      },
      "outputs": [],
      "source": [
        "from google.colab import drive"
      ]
    },
    {
      "cell_type": "code",
      "source": [
        "drive.mount('/content/gdrive')"
      ],
      "metadata": {
        "colab": {
          "base_uri": "https://localhost:8080/"
        },
        "id": "rd94iRp-S1bZ",
        "outputId": "d9ea1fe4-a507-4e7c-e3fb-71121e7afbca"
      },
      "execution_count": 4,
      "outputs": [
        {
          "output_type": "stream",
          "name": "stdout",
          "text": [
            "Mounted at /content/gdrive\n"
          ]
        }
      ]
    },
    {
      "cell_type": "code",
      "source": [
        "import pandas as pd\n",
        "import numpy as np\n",
        "import matplotlib.pyplot as plt\n",
        "import seaborn as sns"
      ],
      "metadata": {
        "id": "G7BpK6JfTMTh"
      },
      "execution_count": 5,
      "outputs": []
    },
    {
      "cell_type": "code",
      "source": [
        "df = pd.read_excel(\"/content/gdrive/MyDrive/train.xlsx\")"
      ],
      "metadata": {
        "id": "HT_g-jtPTaKk"
      },
      "execution_count": 7,
      "outputs": []
    },
    {
      "cell_type": "code",
      "source": [
        "df.head"
      ],
      "metadata": {
        "colab": {
          "base_uri": "https://localhost:8080/"
        },
        "id": "o-qnkeUltkKl",
        "outputId": "2e180108-0647-4225-bf6c-64b69734db6c"
      },
      "execution_count": 8,
      "outputs": [
        {
          "output_type": "execute_result",
          "data": {
            "text/plain": [
              "<bound method NDFrame.head of             A1      A2      A3      A4    A5 A6    A7      A8  A9  A10  ...  \\\n",
              "0        69769    -946  0.1613  0.7960  Panl  N  Bus2  0.0742   0    2  ...   \n",
              "1       236977     -92     NaN     NaN   NaN  Y  Othr     NaN   0    3  ...   \n",
              "2       168821   -1646  0.1124  0.8504  Panl  N  Bus3  0.0387   0    2  ...   \n",
              "3        94708   -1651  0.0263     NaN  Blok  N  Bus3     NaN   0    2  ...   \n",
              "4        84556    -977     NaN     NaN   NaN  N  Rest     NaN   0    2  ...   \n",
              "...        ...     ...     ...     ...   ... ..   ...     ...  ..  ...  ...   \n",
              "246003  248161    -595     NaN     NaN   NaN  N  Bus3     NaN   0    2  ...   \n",
              "246004  257069   -4334  0.1145  0.8368  Panl  N  Mede  0.1180   0    2  ...   \n",
              "246005  154350  365243  0.3025  0.6056  Mixd  N  XNAA  0.2233   0    2  ...   \n",
              "246006  148183  365243     NaN     NaN   NaN  N  XNAA     NaN   0    3  ...   \n",
              "246007    5167  365243     NaN     NaN   NaN  Y  XNAA     NaN   0    2  ...   \n",
              "\n",
              "        A113  A114    A115    A116 A117  A118 A119    A120  A121  A122  \n",
              "0        1.0 -4670  0.9851  0.0000    0  Mard  0.0  0.3333     0     0  \n",
              "1        NaN -1994     NaN     NaN    0  Mard  0.0     NaN     0     0  \n",
              "2        2.0 -2842  0.9891  0.0000    0  Sind  0.0  0.3750     0     1  \n",
              "3        4.0 -1345  0.9682  0.0000    0  Sind  0.0  0.0417     0     1  \n",
              "4        NaN  -852     NaN     NaN    0  Sind  0.0     NaN     0     0  \n",
              "...      ...   ...     ...     ...  ...   ...  ...     ...   ...   ...  \n",
              "246003   NaN -4420     NaN     NaN    0  Mard  0.0     NaN     0     0  \n",
              "246004   4.0 -2561  0.9881  0.0000    0  Sind  0.0  0.3333     0     0  \n",
              "246005   1.0 -4636  0.9712  0.0631    0  Cive  0.0  0.1667     0     0  \n",
              "246006   5.0 -4636     NaN     NaN    0  Mard  0.0     NaN     0     1  \n",
              "246007   3.0 -4266     NaN     NaN    0  Mard  0.0     NaN     0     0  \n",
              "\n",
              "[246008 rows x 122 columns]>"
            ]
          },
          "metadata": {},
          "execution_count": 8
        }
      ]
    },
    {
      "cell_type": "code",
      "source": [
        "df.shape"
      ],
      "metadata": {
        "colab": {
          "base_uri": "https://localhost:8080/"
        },
        "id": "Mhq-Nk8wtmtf",
        "outputId": "1241a01b-76d8-49fe-9f43-398bdccbb974"
      },
      "execution_count": 9,
      "outputs": [
        {
          "output_type": "execute_result",
          "data": {
            "text/plain": [
              "(246008, 122)"
            ]
          },
          "metadata": {},
          "execution_count": 9
        }
      ]
    },
    {
      "cell_type": "code",
      "source": [
        "df.info"
      ],
      "metadata": {
        "colab": {
          "base_uri": "https://localhost:8080/"
        },
        "id": "Vqa1r4Ast2_d",
        "outputId": "3e6d02b3-3825-4d8d-ce24-c99463cc9020"
      },
      "execution_count": 10,
      "outputs": [
        {
          "output_type": "execute_result",
          "data": {
            "text/plain": [
              "<bound method DataFrame.info of             A1      A2      A3      A4    A5 A6    A7      A8  A9  A10  ...  \\\n",
              "0        69769    -946  0.1613  0.7960  Panl  N  Bus2  0.0742   0    2  ...   \n",
              "1       236977     -92     NaN     NaN   NaN  Y  Othr     NaN   0    3  ...   \n",
              "2       168821   -1646  0.1124  0.8504  Panl  N  Bus3  0.0387   0    2  ...   \n",
              "3        94708   -1651  0.0263     NaN  Blok  N  Bus3     NaN   0    2  ...   \n",
              "4        84556    -977     NaN     NaN   NaN  N  Rest     NaN   0    2  ...   \n",
              "...        ...     ...     ...     ...   ... ..   ...     ...  ..  ...  ...   \n",
              "246003  248161    -595     NaN     NaN   NaN  N  Bus3     NaN   0    2  ...   \n",
              "246004  257069   -4334  0.1145  0.8368  Panl  N  Mede  0.1180   0    2  ...   \n",
              "246005  154350  365243  0.3025  0.6056  Mixd  N  XNAA  0.2233   0    2  ...   \n",
              "246006  148183  365243     NaN     NaN   NaN  N  XNAA     NaN   0    3  ...   \n",
              "246007    5167  365243     NaN     NaN   NaN  Y  XNAA     NaN   0    2  ...   \n",
              "\n",
              "        A113  A114    A115    A116 A117  A118 A119    A120  A121  A122  \n",
              "0        1.0 -4670  0.9851  0.0000    0  Mard  0.0  0.3333     0     0  \n",
              "1        NaN -1994     NaN     NaN    0  Mard  0.0     NaN     0     0  \n",
              "2        2.0 -2842  0.9891  0.0000    0  Sind  0.0  0.3750     0     1  \n",
              "3        4.0 -1345  0.9682  0.0000    0  Sind  0.0  0.0417     0     1  \n",
              "4        NaN  -852     NaN     NaN    0  Sind  0.0     NaN     0     0  \n",
              "...      ...   ...     ...     ...  ...   ...  ...     ...   ...   ...  \n",
              "246003   NaN -4420     NaN     NaN    0  Mard  0.0     NaN     0     0  \n",
              "246004   4.0 -2561  0.9881  0.0000    0  Sind  0.0  0.3333     0     0  \n",
              "246005   1.0 -4636  0.9712  0.0631    0  Cive  0.0  0.1667     0     0  \n",
              "246006   5.0 -4636     NaN     NaN    0  Mard  0.0     NaN     0     1  \n",
              "246007   3.0 -4266     NaN     NaN    0  Mard  0.0     NaN     0     0  \n",
              "\n",
              "[246008 rows x 122 columns]>"
            ]
          },
          "metadata": {},
          "execution_count": 10
        }
      ]
    },
    {
      "cell_type": "markdown",
      "source": [
        "# Yeni Bölüm"
      ],
      "metadata": {
        "id": "j8dnJDKzdsx2"
      }
    },
    {
      "cell_type": "code",
      "source": [
        "df.dtypes"
      ],
      "metadata": {
        "colab": {
          "base_uri": "https://localhost:8080/"
        },
        "id": "aYmuyeczur4K",
        "outputId": "c9281be0-78ab-40bc-95ee-a2c8dd08000f"
      },
      "execution_count": 13,
      "outputs": [
        {
          "output_type": "execute_result",
          "data": {
            "text/plain": [
              "A1        int64\n",
              "A2        int64\n",
              "A3      float64\n",
              "A4      float64\n",
              "A5       object\n",
              "         ...   \n",
              "A118     object\n",
              "A119    float64\n",
              "A120    float64\n",
              "A121      int64\n",
              "A122      int64\n",
              "Length: 122, dtype: object"
            ]
          },
          "metadata": {},
          "execution_count": 13
        }
      ]
    },
    {
      "cell_type": "code",
      "source": [
        "df.isnull().sum()\n"
      ],
      "metadata": {
        "colab": {
          "base_uri": "https://localhost:8080/"
        },
        "id": "rWm_ztzSuybB",
        "outputId": "e83563b7-2ae2-4494-8085-2c8d11571af4"
      },
      "execution_count": 11,
      "outputs": [
        {
          "output_type": "execute_result",
          "data": {
            "text/plain": [
              "A1           0\n",
              "A2           0\n",
              "A3      143829\n",
              "A4      163543\n",
              "A5      124975\n",
              "         ...  \n",
              "A118         0\n",
              "A119       811\n",
              "A120    122297\n",
              "A121         0\n",
              "A122         0\n",
              "Length: 122, dtype: int64"
            ]
          },
          "metadata": {},
          "execution_count": 11
        }
      ]
    },
    {
      "cell_type": "code",
      "source": [
        "NaColumn = df.columns[df.isnull().mean()>=0.20]\n",
        "df1= df.drop(NaColumn, axis=1)"
      ],
      "metadata": {
        "id": "7a1qjnmJefua"
      },
      "execution_count": 18,
      "outputs": []
    },
    {
      "cell_type": "code",
      "source": [
        "df1.isnull().sum()"
      ],
      "metadata": {
        "colab": {
          "base_uri": "https://localhost:8080/"
        },
        "id": "DvC5BoT0et1J",
        "outputId": "dd1a71c6-47c5-4b50-a2d2-521e568e08fb"
      },
      "execution_count": 19,
      "outputs": [
        {
          "output_type": "execute_result",
          "data": {
            "text/plain": [
              "A1        0\n",
              "A2        0\n",
              "A6        0\n",
              "A7        0\n",
              "A9        0\n",
              "       ... \n",
              "A117      0\n",
              "A118      0\n",
              "A119    811\n",
              "A121      0\n",
              "A122      0\n",
              "Length: 72, dtype: int64"
            ]
          },
          "metadata": {},
          "execution_count": 19
        }
      ]
    },
    {
      "cell_type": "code",
      "source": [],
      "metadata": {
        "colab": {
          "base_uri": "https://localhost:8080/",
          "height": 130
        },
        "id": "ce_rv07PhO9p",
        "outputId": "6b338e2b-2908-4f5b-d471-e56165760faa"
      },
      "execution_count": 23,
      "outputs": [
        {
          "output_type": "error",
          "ename": "SyntaxError",
          "evalue": "ignored",
          "traceback": [
            "\u001b[0;36m  File \u001b[0;32m\"<ipython-input-23-be9b02f4e4ba>\"\u001b[0;36m, line \u001b[0;32m1\u001b[0m\n\u001b[0;31m    (df1.dtypes= object).head\u001b[0m\n\u001b[0m               ^\u001b[0m\n\u001b[0;31mSyntaxError\u001b[0m\u001b[0;31m:\u001b[0m invalid syntax\n"
          ]
        }
      ]
    }
  ]
}