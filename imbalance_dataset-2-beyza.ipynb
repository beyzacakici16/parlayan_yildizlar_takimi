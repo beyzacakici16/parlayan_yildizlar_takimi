{
 "cells": [
  {
   "cell_type": "code",
   "execution_count": 4,
   "id": "daf2a9cb",
   "metadata": {},
   "outputs": [
    {
     "name": "stdout",
     "output_type": "stream",
     "text": [
      "Collecting imbalanced-learn\n",
      "  Downloading imbalanced_learn-0.10.1-py3-none-any.whl (226 kB)\n",
      "\u001b[2K     \u001b[90m━━━━━━━━━━━━━━━━━━━━━━━━━━━━━━━━━━━━━━━\u001b[0m \u001b[32m226.0/226.0 kB\u001b[0m \u001b[31m1.9 MB/s\u001b[0m eta \u001b[36m0:00:00\u001b[0ma \u001b[36m0:00:01\u001b[0m\n",
      "\u001b[?25hRequirement already satisfied: numpy>=1.17.3 in /Users/beyzacakici/opt/anaconda3/lib/python3.9/site-packages (from imbalanced-learn) (1.21.5)\n",
      "Requirement already satisfied: threadpoolctl>=2.0.0 in /Users/beyzacakici/opt/anaconda3/lib/python3.9/site-packages (from imbalanced-learn) (2.2.0)\n",
      "Requirement already satisfied: scipy>=1.3.2 in /Users/beyzacakici/opt/anaconda3/lib/python3.9/site-packages (from imbalanced-learn) (1.9.1)\n",
      "Collecting joblib>=1.1.1\n",
      "  Downloading joblib-1.2.0-py3-none-any.whl (297 kB)\n",
      "\u001b[2K     \u001b[90m━━━━━━━━━━━━━━━━━━━━━━━━━━━━━━━━━━━━━━━\u001b[0m \u001b[32m298.0/298.0 kB\u001b[0m \u001b[31m4.2 MB/s\u001b[0m eta \u001b[36m0:00:00\u001b[0ma \u001b[36m0:00:01\u001b[0m\n",
      "\u001b[?25hRequirement already satisfied: scikit-learn>=1.0.2 in /Users/beyzacakici/opt/anaconda3/lib/python3.9/site-packages (from imbalanced-learn) (1.0.2)\n",
      "Installing collected packages: joblib, imbalanced-learn\n",
      "  Attempting uninstall: joblib\n",
      "    Found existing installation: joblib 1.1.0\n",
      "    Uninstalling joblib-1.1.0:\n",
      "      Successfully uninstalled joblib-1.1.0\n",
      "Successfully installed imbalanced-learn-0.10.1 joblib-1.2.0\n",
      "Note: you may need to restart the kernel to use updated packages.\n"
     ]
    }
   ],
   "source": [
    "pip install -U imbalanced-learn"
   ]
  },
  {
   "cell_type": "code",
   "execution_count": 5,
   "id": "de8d4462",
   "metadata": {},
   "outputs": [
    {
     "data": {
      "text/html": [
       "<div>\n",
       "<style scoped>\n",
       "    .dataframe tbody tr th:only-of-type {\n",
       "        vertical-align: middle;\n",
       "    }\n",
       "\n",
       "    .dataframe tbody tr th {\n",
       "        vertical-align: top;\n",
       "    }\n",
       "\n",
       "    .dataframe thead th {\n",
       "        text-align: right;\n",
       "    }\n",
       "</style>\n",
       "<table border=\"1\" class=\"dataframe\">\n",
       "  <thead>\n",
       "    <tr style=\"text-align: right;\">\n",
       "      <th></th>\n",
       "      <th>69769</th>\n",
       "      <th>-946</th>\n",
       "      <th>0.1613</th>\n",
       "      <th>0.7959999999999999</th>\n",
       "      <th>Panl</th>\n",
       "      <th>N</th>\n",
       "      <th>Bus2</th>\n",
       "      <th>0.0742</th>\n",
       "      <th>0</th>\n",
       "      <th>2</th>\n",
       "      <th>...</th>\n",
       "      <th>1.0.1</th>\n",
       "      <th>-4670</th>\n",
       "      <th>0.9851.2</th>\n",
       "      <th>0.0.13</th>\n",
       "      <th>0.26</th>\n",
       "      <th>Mard</th>\n",
       "      <th>0.0.14</th>\n",
       "      <th>0.3333.2</th>\n",
       "      <th>0.27</th>\n",
       "      <th>0.28</th>\n",
       "    </tr>\n",
       "  </thead>\n",
       "  <tbody>\n",
       "    <tr>\n",
       "      <th>0</th>\n",
       "      <td>236977</td>\n",
       "      <td>-92</td>\n",
       "      <td>NaN</td>\n",
       "      <td>NaN</td>\n",
       "      <td>NaN</td>\n",
       "      <td>Y</td>\n",
       "      <td>Othr</td>\n",
       "      <td>NaN</td>\n",
       "      <td>0</td>\n",
       "      <td>3</td>\n",
       "      <td>...</td>\n",
       "      <td>NaN</td>\n",
       "      <td>-1994</td>\n",
       "      <td>NaN</td>\n",
       "      <td>NaN</td>\n",
       "      <td>0</td>\n",
       "      <td>Mard</td>\n",
       "      <td>0.0</td>\n",
       "      <td>NaN</td>\n",
       "      <td>0</td>\n",
       "      <td>0</td>\n",
       "    </tr>\n",
       "    <tr>\n",
       "      <th>1</th>\n",
       "      <td>168821</td>\n",
       "      <td>-1646</td>\n",
       "      <td>0.1124</td>\n",
       "      <td>0.8504</td>\n",
       "      <td>Panl</td>\n",
       "      <td>N</td>\n",
       "      <td>Bus3</td>\n",
       "      <td>0.0387</td>\n",
       "      <td>0</td>\n",
       "      <td>2</td>\n",
       "      <td>...</td>\n",
       "      <td>2.0</td>\n",
       "      <td>-2842</td>\n",
       "      <td>0.9891</td>\n",
       "      <td>0.0</td>\n",
       "      <td>0</td>\n",
       "      <td>Sind</td>\n",
       "      <td>0.0</td>\n",
       "      <td>0.3750</td>\n",
       "      <td>0</td>\n",
       "      <td>1</td>\n",
       "    </tr>\n",
       "    <tr>\n",
       "      <th>2</th>\n",
       "      <td>94708</td>\n",
       "      <td>-1651</td>\n",
       "      <td>0.0263</td>\n",
       "      <td>NaN</td>\n",
       "      <td>Blok</td>\n",
       "      <td>N</td>\n",
       "      <td>Bus3</td>\n",
       "      <td>NaN</td>\n",
       "      <td>0</td>\n",
       "      <td>2</td>\n",
       "      <td>...</td>\n",
       "      <td>4.0</td>\n",
       "      <td>-1345</td>\n",
       "      <td>0.9682</td>\n",
       "      <td>0.0</td>\n",
       "      <td>0</td>\n",
       "      <td>Sind</td>\n",
       "      <td>0.0</td>\n",
       "      <td>0.0417</td>\n",
       "      <td>0</td>\n",
       "      <td>1</td>\n",
       "    </tr>\n",
       "    <tr>\n",
       "      <th>3</th>\n",
       "      <td>84556</td>\n",
       "      <td>-977</td>\n",
       "      <td>NaN</td>\n",
       "      <td>NaN</td>\n",
       "      <td>NaN</td>\n",
       "      <td>N</td>\n",
       "      <td>Rest</td>\n",
       "      <td>NaN</td>\n",
       "      <td>0</td>\n",
       "      <td>2</td>\n",
       "      <td>...</td>\n",
       "      <td>NaN</td>\n",
       "      <td>-852</td>\n",
       "      <td>NaN</td>\n",
       "      <td>NaN</td>\n",
       "      <td>0</td>\n",
       "      <td>Sind</td>\n",
       "      <td>0.0</td>\n",
       "      <td>NaN</td>\n",
       "      <td>0</td>\n",
       "      <td>0</td>\n",
       "    </tr>\n",
       "    <tr>\n",
       "      <th>4</th>\n",
       "      <td>114510</td>\n",
       "      <td>365243</td>\n",
       "      <td>0.1067</td>\n",
       "      <td>0.8096</td>\n",
       "      <td>Panl</td>\n",
       "      <td>N</td>\n",
       "      <td>XNAA</td>\n",
       "      <td>0.0525</td>\n",
       "      <td>0</td>\n",
       "      <td>2</td>\n",
       "      <td>...</td>\n",
       "      <td>2.0</td>\n",
       "      <td>-4138</td>\n",
       "      <td>0.9861</td>\n",
       "      <td>0.0</td>\n",
       "      <td>0</td>\n",
       "      <td>Mard</td>\n",
       "      <td>0.0</td>\n",
       "      <td>0.4583</td>\n",
       "      <td>0</td>\n",
       "      <td>0</td>\n",
       "    </tr>\n",
       "  </tbody>\n",
       "</table>\n",
       "<p>5 rows × 122 columns</p>\n",
       "</div>"
      ],
      "text/plain": [
       "    69769    -946  0.1613  0.7959999999999999  Panl  N  Bus2  0.0742  0  2  \\\n",
       "0  236977     -92     NaN                 NaN   NaN  Y  Othr     NaN  0  3   \n",
       "1  168821   -1646  0.1124              0.8504  Panl  N  Bus3  0.0387  0  2   \n",
       "2   94708   -1651  0.0263                 NaN  Blok  N  Bus3     NaN  0  2   \n",
       "3   84556    -977     NaN                 NaN   NaN  N  Rest     NaN  0  2   \n",
       "4  114510  365243  0.1067              0.8096  Panl  N  XNAA  0.0525  0  2   \n",
       "\n",
       "   ...  1.0.1  -4670  0.9851.2  0.0.13 0.26  Mard 0.0.14  0.3333.2  0.27  0.28  \n",
       "0  ...    NaN  -1994       NaN     NaN    0  Mard    0.0       NaN     0     0  \n",
       "1  ...    2.0  -2842    0.9891     0.0    0  Sind    0.0    0.3750     0     1  \n",
       "2  ...    4.0  -1345    0.9682     0.0    0  Sind    0.0    0.0417     0     1  \n",
       "3  ...    NaN   -852       NaN     NaN    0  Sind    0.0       NaN     0     0  \n",
       "4  ...    2.0  -4138    0.9861     0.0    0  Mard    0.0    0.4583     0     0  \n",
       "\n",
       "[5 rows x 122 columns]"
      ]
     },
     "execution_count": 5,
     "metadata": {},
     "output_type": "execute_result"
    }
   ],
   "source": [
    "import pandas as pd\n",
    "\n",
    "\n",
    "# Dosya yolunu belirtin\n",
    "dosya_yolu = \"/Users/beyzacakici/Desktop/train_project.csv\"  # KullanıcıAdı kısmını kendi kullanıcı adınızla değiştirin\n",
    "\n",
    "# CSV dosyasını okuyun\n",
    "df = pd.read_csv(dosya_yolu)\n",
    "\n",
    "# Veriyi gösterin\n",
    "df.head()"
   ]
  },
  {
   "cell_type": "code",
   "execution_count": 6,
   "id": "d6b462f8",
   "metadata": {},
   "outputs": [],
   "source": [
    "num_cols = len(df.columns)\n",
    "df.columns = [\"C\" + str(i) for i in range(1, num_cols+1)]\n",
    "     "
   ]
  },
  {
   "cell_type": "code",
   "execution_count": 3,
   "id": "44224963",
   "metadata": {},
   "outputs": [
    {
     "data": {
      "text/plain": [
       "<bound method NDFrame.head of             C1      C2      C3      C4    C5 C6    C7      C8  C9  C10  ...  \\\n",
       "0       236977     -92     NaN     NaN   NaN  Y  Othr     NaN   0    3  ...   \n",
       "1       168821   -1646  0.1124  0.8504  Panl  N  Bus3  0.0387   0    2  ...   \n",
       "2        94708   -1651  0.0263     NaN  Blok  N  Bus3     NaN   0    2  ...   \n",
       "3        84556    -977     NaN     NaN   NaN  N  Rest     NaN   0    2  ...   \n",
       "4       114510  365243  0.1067  0.8096  Panl  N  XNAA  0.0525   0    2  ...   \n",
       "...        ...     ...     ...     ...   ... ..   ...     ...  ..  ...  ...   \n",
       "246002  248161    -595     NaN     NaN   NaN  N  Bus3     NaN   0    2  ...   \n",
       "246003  257069   -4334  0.1145  0.8368  Panl  N  Mede  0.1180   0    2  ...   \n",
       "246004  154350  365243  0.3025  0.6056  Mixd  N  XNAA  0.2233   0    2  ...   \n",
       "246005  148183  365243     NaN     NaN   NaN  N  XNAA     NaN   0    3  ...   \n",
       "246006    5167  365243     NaN     NaN   NaN  Y  XNAA     NaN   0    2  ...   \n",
       "\n",
       "        C113  C114    C115    C116 C117  C118 C119    C120  C121  C122  \n",
       "0        NaN -1994     NaN     NaN    0  Mard  0.0     NaN     0     0  \n",
       "1        2.0 -2842  0.9891  0.0000    0  Sind  0.0  0.3750     0     1  \n",
       "2        4.0 -1345  0.9682  0.0000    0  Sind  0.0  0.0417     0     1  \n",
       "3        NaN  -852     NaN     NaN    0  Sind  0.0     NaN     0     0  \n",
       "4        2.0 -4138  0.9861  0.0000    0  Mard  0.0  0.4583     0     0  \n",
       "...      ...   ...     ...     ...  ...   ...  ...     ...   ...   ...  \n",
       "246002   NaN -4420     NaN     NaN    0  Mard  0.0     NaN     0     0  \n",
       "246003   4.0 -2561  0.9881  0.0000    0  Sind  0.0  0.3333     0     0  \n",
       "246004   1.0 -4636  0.9712  0.0631    0  Cive  0.0  0.1667     0     0  \n",
       "246005   5.0 -4636     NaN     NaN    0  Mard  0.0     NaN     0     1  \n",
       "246006   3.0 -4266     NaN     NaN    0  Mard  0.0     NaN     0     0  \n",
       "\n",
       "[246007 rows x 122 columns]>"
      ]
     },
     "execution_count": 3,
     "metadata": {},
     "output_type": "execute_result"
    }
   ],
   "source": [
    "df.head"
   ]
  },
  {
   "cell_type": "code",
   "execution_count": 7,
   "id": "ba161b6e",
   "metadata": {},
   "outputs": [],
   "source": [
    "x = df.drop(['C122'], axis = 1)\n",
    "y = df['C122']"
   ]
  },
  {
   "cell_type": "code",
   "execution_count": 8,
   "id": "28bbc6b7",
   "metadata": {},
   "outputs": [
    {
     "data": {
      "text/plain": [
       "0    226147\n",
       "1     19860\n",
       "Name: C122, dtype: int64"
      ]
     },
     "execution_count": 8,
     "metadata": {},
     "output_type": "execute_result"
    }
   ],
   "source": [
    "#class distribution \n",
    "\n",
    "y.value_counts()"
   ]
  },
  {
   "cell_type": "code",
   "execution_count": 9,
   "id": "98d1583f",
   "metadata": {},
   "outputs": [
    {
     "data": {
      "text/plain": [
       "<AxesSubplot:ylabel='C122'>"
      ]
     },
     "execution_count": 9,
     "metadata": {},
     "output_type": "execute_result"
    },
    {
     "data": {
      "image/png": "[encoded data removed]",
      "text/plain": [
       "<Figure size 640x480 with 1 Axes>"
      ]
     },
     "metadata": {},
     "output_type": "display_data"
    }
   ],
   "source": [
    "#show pie plot (Approach 1)\n",
    "\n",
    "y.value_counts().plot.pie(autopct='%.2f')"
   ]
  },
  {
   "cell_type": "code",
   "execution_count": 28,
   "id": "7eaa12db",
   "metadata": {},
   "outputs": [
    {
     "data": {
      "image/png": "[encoded data removed]",
      "text/plain": [
       "<Figure size 640x480 with 1 Axes>"
      ]
     },
     "metadata": {},
     "output_type": "display_data"
    }
   ],
   "source": [
    "#random undersampling\n",
    "\n",
    "from imblearn.under_sampling import RandomUnderSampler\n",
    "\n",
    "#rus = RandomUnderSampler(sampling_strategy=1) #float \n",
    "\n",
    "rus = RandomUnderSampler(sampling_strategy = \"not minority\") #string\n",
    "\n",
    "x_res, y_res = rus.fit_resample(x, y)\n",
    "\n",
    "ax = y_res.value_counts().plot.pie(autopct='%.2f')\n",
    "\n",
    "_ = ax.set_title(\"Under-sampling\")\n",
    "\n"
   ]
  },
  {
   "cell_type": "code",
   "execution_count": 29,
   "id": "1417cbc9",
   "metadata": {},
   "outputs": [
    {
     "data": {
      "text/plain": [
       "0    19860\n",
       "1    19860\n",
       "Name: C122, dtype: int64"
      ]
     },
     "execution_count": 29,
     "metadata": {},
     "output_type": "execute_result"
    }
   ],
   "source": [
    "#class distribution \n",
    "\n",
    "y_res.value_counts()"
   ]
  },
  {
   "cell_type": "code",
   "execution_count": 30,
   "id": "319e1c16",
   "metadata": {},
   "outputs": [
    {
     "data": {
      "image/png": "[encoded data removed]",
      "text/plain": [
       "<Figure size 640x480 with 1 Axes>"
      ]
     },
     "metadata": {},
     "output_type": "display_data"
    }
   ],
   "source": [
    "#random oversampling\n",
    "\n",
    "from imblearn.over_sampling import RandomOverSampler\n",
    "\n",
    "#ros = RandomOverSampler(sampling_strategy=1) #float \n",
    "\n",
    "ros = RandomOverSampler(sampling_strategy = \"not majority\") #string\n",
    "\n",
    "x_res, y_res = ros.fit_resample(x, y)\n",
    "\n",
    "ax = y_res.value_counts().plot.pie(autopct='%.2f')\n",
    "\n",
    "_ = ax.set_title(\"Over-sampling\")\n"
   ]
  },
  {
   "cell_type": "code",
   "execution_count": 31,
   "id": "f70b34f3",
   "metadata": {},
   "outputs": [
    {
     "data": {
      "text/plain": [
       "0    226147\n",
       "1    226147\n",
       "Name: C122, dtype: int64"
      ]
     },
     "execution_count": 31,
     "metadata": {},
     "output_type": "execute_result"
    }
   ],
   "source": [
    "y_res.value_counts()"
   ]
  }
 ],
 "metadata": {
  "kernelspec": {
   "display_name": "Python 3 (ipykernel)",
   "language": "python",
   "name": "python3"
  },
  "language_info": {
   "codemirror_mode": {
    "name": "ipython",
    "version": 3
   },
   "file_extension": ".py",
   "mimetype": "text/x-python",
   "name": "python",
   "nbconvert_exporter": "python",
   "pygments_lexer": "ipython3",
   "version": "3.9.13"
  }
 },
 "nbformat": 4,
 "nbformat_minor": 5
}
