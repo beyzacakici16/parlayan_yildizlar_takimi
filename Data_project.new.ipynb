{
  "cells": [
    {
      "cell_type": "code",
      "execution_count": 10,
      "metadata": {
        "id": "zTEj98V1f3N1"
      },
      "outputs": [],
      "source": [
        "import pandas as pd\n",
        "import numpy as np\n",
        "import matplotlib.pyplot as plt\n",
        "import seaborn as sns"
      ]
    },
    {
      "cell_type": "code",
      "execution_count": 11,
      "metadata": {
        "id": "NPVJMF5rhSD5"
      },
      "outputs": [],
      "source": [
        "df= pd.read_csv(\"train.csv\",header=None)"
      ]
    },
    {
      "cell_type": "code",
      "execution_count": 16,
      "metadata": {
        "colab": {
          "base_uri": "https://localhost:8080/",
          "height": 423
        },
        "id": "B5l8JmSeitGv",
        "outputId": "5708fef4-f1b8-41d8-b19b-cde9c9266228"
      },
      "outputs": [
        {
          "data": {
            "text/html": [
              "<div>\n",
              "<style scoped>\n",
              "    .dataframe tbody tr th:only-of-type {\n",
              "        vertical-align: middle;\n",
              "    }\n",
              "\n",
              "    .dataframe tbody tr th {\n",
              "        vertical-align: top;\n",
              "    }\n",
              "\n",
              "    .dataframe thead th {\n",
              "        text-align: right;\n",
              "    }\n",
              "</style>\n",
              "<table border=\"1\" class=\"dataframe\">\n",
              "  <thead>\n",
              "    <tr style=\"text-align: right;\">\n",
              "      <th></th>\n",
              "      <th>0</th>\n",
              "      <th>1</th>\n",
              "      <th>2</th>\n",
              "      <th>3</th>\n",
              "      <th>4</th>\n",
              "      <th>5</th>\n",
              "      <th>6</th>\n",
              "      <th>7</th>\n",
              "      <th>8</th>\n",
              "      <th>9</th>\n",
              "      <th>...</th>\n",
              "      <th>112</th>\n",
              "      <th>113</th>\n",
              "      <th>114</th>\n",
              "      <th>115</th>\n",
              "      <th>116</th>\n",
              "      <th>117</th>\n",
              "      <th>118</th>\n",
              "      <th>119</th>\n",
              "      <th>120</th>\n",
              "      <th>121</th>\n",
              "    </tr>\n",
              "  </thead>\n",
              "  <tbody>\n",
              "    <tr>\n",
              "      <th>0</th>\n",
              "      <td>69769</td>\n",
              "      <td>-946</td>\n",
              "      <td>0.1613</td>\n",
              "      <td>0.7960</td>\n",
              "      <td>Panl</td>\n",
              "      <td>N</td>\n",
              "      <td>Bus2</td>\n",
              "      <td>0.0742</td>\n",
              "      <td>0</td>\n",
              "      <td>2</td>\n",
              "      <td>...</td>\n",
              "      <td>1.0</td>\n",
              "      <td>-4670</td>\n",
              "      <td>0.9851</td>\n",
              "      <td>0.0</td>\n",
              "      <td>0</td>\n",
              "      <td>Mard</td>\n",
              "      <td>0.0</td>\n",
              "      <td>0.3333</td>\n",
              "      <td>0</td>\n",
              "      <td>0</td>\n",
              "    </tr>\n",
              "    <tr>\n",
              "      <th>1</th>\n",
              "      <td>236977</td>\n",
              "      <td>-92</td>\n",
              "      <td>NaN</td>\n",
              "      <td>NaN</td>\n",
              "      <td>NaN</td>\n",
              "      <td>Y</td>\n",
              "      <td>Othr</td>\n",
              "      <td>NaN</td>\n",
              "      <td>0</td>\n",
              "      <td>3</td>\n",
              "      <td>...</td>\n",
              "      <td>NaN</td>\n",
              "      <td>-1994</td>\n",
              "      <td>NaN</td>\n",
              "      <td>NaN</td>\n",
              "      <td>0</td>\n",
              "      <td>Mard</td>\n",
              "      <td>0.0</td>\n",
              "      <td>NaN</td>\n",
              "      <td>0</td>\n",
              "      <td>0</td>\n",
              "    </tr>\n",
              "    <tr>\n",
              "      <th>2</th>\n",
              "      <td>168821</td>\n",
              "      <td>-1646</td>\n",
              "      <td>0.1124</td>\n",
              "      <td>0.8504</td>\n",
              "      <td>Panl</td>\n",
              "      <td>N</td>\n",
              "      <td>Bus3</td>\n",
              "      <td>0.0387</td>\n",
              "      <td>0</td>\n",
              "      <td>2</td>\n",
              "      <td>...</td>\n",
              "      <td>2.0</td>\n",
              "      <td>-2842</td>\n",
              "      <td>0.9891</td>\n",
              "      <td>0.0</td>\n",
              "      <td>0</td>\n",
              "      <td>Sind</td>\n",
              "      <td>0.0</td>\n",
              "      <td>0.3750</td>\n",
              "      <td>0</td>\n",
              "      <td>1</td>\n",
              "    </tr>\n",
              "    <tr>\n",
              "      <th>3</th>\n",
              "      <td>94708</td>\n",
              "      <td>-1651</td>\n",
              "      <td>0.0263</td>\n",
              "      <td>NaN</td>\n",
              "      <td>Blok</td>\n",
              "      <td>N</td>\n",
              "      <td>Bus3</td>\n",
              "      <td>NaN</td>\n",
              "      <td>0</td>\n",
              "      <td>2</td>\n",
              "      <td>...</td>\n",
              "      <td>4.0</td>\n",
              "      <td>-1345</td>\n",
              "      <td>0.9682</td>\n",
              "      <td>0.0</td>\n",
              "      <td>0</td>\n",
              "      <td>Sind</td>\n",
              "      <td>0.0</td>\n",
              "      <td>0.0417</td>\n",
              "      <td>0</td>\n",
              "      <td>1</td>\n",
              "    </tr>\n",
              "    <tr>\n",
              "      <th>4</th>\n",
              "      <td>84556</td>\n",
              "      <td>-977</td>\n",
              "      <td>NaN</td>\n",
              "      <td>NaN</td>\n",
              "      <td>NaN</td>\n",
              "      <td>N</td>\n",
              "      <td>Rest</td>\n",
              "      <td>NaN</td>\n",
              "      <td>0</td>\n",
              "      <td>2</td>\n",
              "      <td>...</td>\n",
              "      <td>NaN</td>\n",
              "      <td>-852</td>\n",
              "      <td>NaN</td>\n",
              "      <td>NaN</td>\n",
              "      <td>0</td>\n",
              "      <td>Sind</td>\n",
              "      <td>0.0</td>\n",
              "      <td>NaN</td>\n",
              "      <td>0</td>\n",
              "      <td>0</td>\n",
              "    </tr>\n",
              "  </tbody>\n",
              "</table>\n",
              "<p>5 rows × 122 columns</p>\n",
              "</div>"
            ],
            "text/plain": [
              "      0     1       2       3     4   5     6       7    8    9    ...  112  \\\n",
              "0   69769  -946  0.1613  0.7960  Panl   N  Bus2  0.0742    0    2  ...  1.0   \n",
              "1  236977   -92     NaN     NaN   NaN   Y  Othr     NaN    0    3  ...  NaN   \n",
              "2  168821 -1646  0.1124  0.8504  Panl   N  Bus3  0.0387    0    2  ...  2.0   \n",
              "3   94708 -1651  0.0263     NaN  Blok   N  Bus3     NaN    0    2  ...  4.0   \n",
              "4   84556  -977     NaN     NaN   NaN   N  Rest     NaN    0    2  ...  NaN   \n",
              "\n",
              "    113     114  115 116   117  118     119  120  121  \n",
              "0 -4670  0.9851  0.0   0  Mard  0.0  0.3333    0    0  \n",
              "1 -1994     NaN  NaN   0  Mard  0.0     NaN    0    0  \n",
              "2 -2842  0.9891  0.0   0  Sind  0.0  0.3750    0    1  \n",
              "3 -1345  0.9682  0.0   0  Sind  0.0  0.0417    0    1  \n",
              "4  -852     NaN  NaN   0  Sind  0.0     NaN    0    0  \n",
              "\n",
              "[5 rows x 122 columns]"
            ]
          },
          "execution_count": 16,
          "metadata": {},
          "output_type": "execute_result"
        }
      ],
      "source": [
        "df.head()"
      ]
    },
    {
      "cell_type": "code",
      "execution_count": 13,
      "metadata": {
        "colab": {
          "base_uri": "https://localhost:8080/"
        },
        "id": "SItWoL8Ghpv-",
        "outputId": "6baf9400-d311-4642-daef-2e706564a213"
      },
      "outputs": [
        {
          "data": {
            "text/plain": [
              "0           0\n",
              "1           0\n",
              "2      143829\n",
              "3      163543\n",
              "4      124975\n",
              "        ...  \n",
              "117         0\n",
              "118       811\n",
              "119    122297\n",
              "120         0\n",
              "121         0\n",
              "Length: 122, dtype: int64"
            ]
          },
          "execution_count": 13,
          "metadata": {},
          "output_type": "execute_result"
        }
      ],
      "source": [
        "df.isnull().sum()"
      ]
    },
    {
      "cell_type": "code",
      "execution_count": 14,
      "metadata": {
        "colab": {
          "base_uri": "https://localhost:8080/"
        },
        "id": "xwMsL0s-iFP-",
        "outputId": "e420d66c-24b8-4ad0-85f2-613db5ff58fc"
      },
      "outputs": [
        {
          "data": {
            "text/plain": [
              "(246008, 122)"
            ]
          },
          "execution_count": 14,
          "metadata": {},
          "output_type": "execute_result"
        }
      ],
      "source": [
        "df.shape"
      ]
    },
    {
      "cell_type": "code",
      "execution_count": 17,
      "metadata": {},
      "outputs": [
        {
          "name": "stdout",
          "output_type": "stream",
          "text": [
            "n (features): \t122\n",
            "m (exemplos): \t246008\n"
          ]
        }
      ],
      "source": [
        "print(f\"n (features): \\t{df.shape[1]}\")\n",
        "print(f\"m (examples): \\t{df.shape[0]}\")"
      ]
    },
    {
      "cell_type": "code",
      "execution_count": 15,
      "metadata": {},
      "outputs": [
        {
          "data": {
            "text/plain": [
              "88     0.698396\n",
              "7      0.698396\n",
              "17     0.698396\n",
              "43     0.693998\n",
              "56     0.693998\n",
              "         ...   \n",
              "57     0.000000\n",
              "55     0.000000\n",
              "53     0.000000\n",
              "52     0.000000\n",
              "121    0.000000\n",
              "Length: 122, dtype: float64"
            ]
          },
          "execution_count": 15,
          "metadata": {},
          "output_type": "execute_result"
        }
      ],
      "source": [
        "(df.isnull().sum()/ df.shape[0]).sort_values(ascending=False)"
      ]
    },
    {
      "cell_type": "code",
      "execution_count": 18,
      "metadata": {
        "colab": {
          "base_uri": "https://localhost:8080/"
        },
        "id": "LDdqXpZHozrl",
        "outputId": "5840653c-0c9f-4fd5-fcda-40553c1c3eb2"
      },
      "outputs": [
        {
          "data": {
            "text/plain": [
              "0        int64\n",
              "1        int64\n",
              "2      float64\n",
              "3      float64\n",
              "4       object\n",
              "        ...   \n",
              "117     object\n",
              "118    float64\n",
              "119    float64\n",
              "120      int64\n",
              "121      int64\n",
              "Length: 122, dtype: object"
            ]
          },
          "execution_count": 18,
          "metadata": {},
          "output_type": "execute_result"
        }
      ],
      "source": [
        "df.dtypes"
      ]
    },
    {
      "cell_type": "code",
      "execution_count": 25,
      "metadata": {},
      "outputs": [],
      "source": [
        "NaColumn = df.columns[df.isnull().mean()>=0.05]\n",
        "df1= df.drop(NaColumn, axis=1)"
      ]
    },
    {
      "cell_type": "code",
      "execution_count": 30,
      "metadata": {},
      "outputs": [
        {
          "data": {
            "text/plain": [
              "(246008, 65)"
            ]
          },
          "execution_count": 30,
          "metadata": {},
          "output_type": "execute_result"
        }
      ],
      "source": [
        "df1.shape"
      ]
    },
    {
      "cell_type": "code",
      "execution_count": 53,
      "metadata": {},
      "outputs": [],
      "source": [
        "from sklearn.pipeline import Pipeline\n",
        "from sklearn.impute import SimpleImputer\n",
        "from sklearn.preprocessing import MinMaxScaler\n",
        "from sklearn.preprocessing import OneHotEncoder\n",
        "from sklearn.compose import ColumnTransformer"
      ]
    },
    {
      "cell_type": "code",
      "execution_count": 32,
      "metadata": {},
      "outputs": [
        {
          "data": {
            "text/plain": [
              "0        int64\n",
              "1        int64\n",
              "5       object\n",
              "6       object\n",
              "8        int64\n",
              "        ...   \n",
              "116      int64\n",
              "117     object\n",
              "118    float64\n",
              "120      int64\n",
              "121      int64\n",
              "Length: 65, dtype: object"
            ]
          },
          "execution_count": 32,
          "metadata": {},
          "output_type": "execute_result"
        }
      ],
      "source": [
        "df1.dtypes"
      ]
    },
    {
      "cell_type": "code",
      "execution_count": 33,
      "metadata": {},
      "outputs": [
        {
          "data": {
            "text/html": [
              "<div>\n",
              "<style scoped>\n",
              "    .dataframe tbody tr th:only-of-type {\n",
              "        vertical-align: middle;\n",
              "    }\n",
              "\n",
              "    .dataframe tbody tr th {\n",
              "        vertical-align: top;\n",
              "    }\n",
              "\n",
              "    .dataframe thead th {\n",
              "        text-align: right;\n",
              "    }\n",
              "</style>\n",
              "<table border=\"1\" class=\"dataframe\">\n",
              "  <thead>\n",
              "    <tr style=\"text-align: right;\">\n",
              "      <th></th>\n",
              "      <th>0</th>\n",
              "      <th>1</th>\n",
              "      <th>5</th>\n",
              "      <th>6</th>\n",
              "      <th>8</th>\n",
              "      <th>9</th>\n",
              "      <th>13</th>\n",
              "      <th>15</th>\n",
              "      <th>16</th>\n",
              "      <th>19</th>\n",
              "      <th>...</th>\n",
              "      <th>104</th>\n",
              "      <th>105</th>\n",
              "      <th>106</th>\n",
              "      <th>108</th>\n",
              "      <th>113</th>\n",
              "      <th>116</th>\n",
              "      <th>117</th>\n",
              "      <th>118</th>\n",
              "      <th>120</th>\n",
              "      <th>121</th>\n",
              "    </tr>\n",
              "  </thead>\n",
              "  <tbody>\n",
              "    <tr>\n",
              "      <th>0</th>\n",
              "      <td>69769</td>\n",
              "      <td>-946</td>\n",
              "      <td>N</td>\n",
              "      <td>Bus2</td>\n",
              "      <td>0</td>\n",
              "      <td>2</td>\n",
              "      <td>180000.0</td>\n",
              "      <td>0</td>\n",
              "      <td>Unad</td>\n",
              "      <td>0</td>\n",
              "      <td>...</td>\n",
              "      <td>1</td>\n",
              "      <td>0</td>\n",
              "      <td>0</td>\n",
              "      <td>0</td>\n",
              "      <td>-4670</td>\n",
              "      <td>0</td>\n",
              "      <td>Mard</td>\n",
              "      <td>0.0</td>\n",
              "      <td>0</td>\n",
              "      <td>0</td>\n",
              "    </tr>\n",
              "    <tr>\n",
              "      <th>1</th>\n",
              "      <td>236977</td>\n",
              "      <td>-92</td>\n",
              "      <td>Y</td>\n",
              "      <td>Othr</td>\n",
              "      <td>0</td>\n",
              "      <td>3</td>\n",
              "      <td>135000.0</td>\n",
              "      <td>0</td>\n",
              "      <td>Unad</td>\n",
              "      <td>0</td>\n",
              "      <td>...</td>\n",
              "      <td>1</td>\n",
              "      <td>0</td>\n",
              "      <td>0</td>\n",
              "      <td>0</td>\n",
              "      <td>-1994</td>\n",
              "      <td>0</td>\n",
              "      <td>Mard</td>\n",
              "      <td>0.0</td>\n",
              "      <td>0</td>\n",
              "      <td>0</td>\n",
              "    </tr>\n",
              "    <tr>\n",
              "      <th>2</th>\n",
              "      <td>168821</td>\n",
              "      <td>-1646</td>\n",
              "      <td>N</td>\n",
              "      <td>Bus3</td>\n",
              "      <td>0</td>\n",
              "      <td>2</td>\n",
              "      <td>553500.0</td>\n",
              "      <td>0</td>\n",
              "      <td>Spor</td>\n",
              "      <td>0</td>\n",
              "      <td>...</td>\n",
              "      <td>1</td>\n",
              "      <td>0</td>\n",
              "      <td>0</td>\n",
              "      <td>0</td>\n",
              "      <td>-2842</td>\n",
              "      <td>0</td>\n",
              "      <td>Sind</td>\n",
              "      <td>0.0</td>\n",
              "      <td>0</td>\n",
              "      <td>1</td>\n",
              "    </tr>\n",
              "    <tr>\n",
              "      <th>3</th>\n",
              "      <td>94708</td>\n",
              "      <td>-1651</td>\n",
              "      <td>N</td>\n",
              "      <td>Bus3</td>\n",
              "      <td>0</td>\n",
              "      <td>2</td>\n",
              "      <td>391500.0</td>\n",
              "      <td>0</td>\n",
              "      <td>Unad</td>\n",
              "      <td>0</td>\n",
              "      <td>...</td>\n",
              "      <td>1</td>\n",
              "      <td>0</td>\n",
              "      <td>0</td>\n",
              "      <td>0</td>\n",
              "      <td>-1345</td>\n",
              "      <td>0</td>\n",
              "      <td>Sind</td>\n",
              "      <td>0.0</td>\n",
              "      <td>0</td>\n",
              "      <td>1</td>\n",
              "    </tr>\n",
              "    <tr>\n",
              "      <th>4</th>\n",
              "      <td>84556</td>\n",
              "      <td>-977</td>\n",
              "      <td>N</td>\n",
              "      <td>Rest</td>\n",
              "      <td>0</td>\n",
              "      <td>2</td>\n",
              "      <td>225000.0</td>\n",
              "      <td>0</td>\n",
              "      <td>Unad</td>\n",
              "      <td>0</td>\n",
              "      <td>...</td>\n",
              "      <td>1</td>\n",
              "      <td>0</td>\n",
              "      <td>0</td>\n",
              "      <td>0</td>\n",
              "      <td>-852</td>\n",
              "      <td>0</td>\n",
              "      <td>Sind</td>\n",
              "      <td>0.0</td>\n",
              "      <td>0</td>\n",
              "      <td>0</td>\n",
              "    </tr>\n",
              "  </tbody>\n",
              "</table>\n",
              "<p>5 rows × 65 columns</p>\n",
              "</div>"
            ],
            "text/plain": [
              "      0     1   5     6    8    9         13   15    16   19   ...  104  105  \\\n",
              "0   69769  -946   N  Bus2    0    2  180000.0    0  Unad    0  ...    1    0   \n",
              "1  236977   -92   Y  Othr    0    3  135000.0    0  Unad    0  ...    1    0   \n",
              "2  168821 -1646   N  Bus3    0    2  553500.0    0  Spor    0  ...    1    0   \n",
              "3   94708 -1651   N  Bus3    0    2  391500.0    0  Unad    0  ...    1    0   \n",
              "4   84556  -977   N  Rest    0    2  225000.0    0  Unad    0  ...    1    0   \n",
              "\n",
              "   106  108   113  116   117  118 120 121  \n",
              "0    0    0 -4670    0  Mard  0.0   0   0  \n",
              "1    0    0 -1994    0  Mard  0.0   0   0  \n",
              "2    0    0 -2842    0  Sind  0.0   0   1  \n",
              "3    0    0 -1345    0  Sind  0.0   0   1  \n",
              "4    0    0  -852    0  Sind  0.0   0   0  \n",
              "\n",
              "[5 rows x 65 columns]"
            ]
          },
          "execution_count": 33,
          "metadata": {},
          "output_type": "execute_result"
        }
      ],
      "source": [
        "df1.head()"
      ]
    },
    {
      "cell_type": "code",
      "execution_count": 34,
      "metadata": {},
      "outputs": [
        {
          "data": {
            "text/plain": [
              "0        0\n",
              "1        0\n",
              "5        0\n",
              "6        0\n",
              "8        0\n",
              "      ... \n",
              "116      0\n",
              "117      0\n",
              "118    811\n",
              "120      0\n",
              "121      0\n",
              "Length: 65, dtype: int64"
            ]
          },
          "execution_count": 34,
          "metadata": {},
          "output_type": "execute_result"
        }
      ],
      "source": [
        "df1.isnull().sum()"
      ]
    },
    {
      "cell_type": "code",
      "execution_count": 36,
      "metadata": {},
      "outputs": [
        {
          "data": {
            "text/plain": [
              "16     0.004183\n",
              "35     0.003297\n",
              "118    0.003297\n",
              "27     0.003297\n",
              "72     0.003297\n",
              "         ...   \n",
              "53     0.000000\n",
              "55     0.000000\n",
              "1      0.000000\n",
              "62     0.000000\n",
              "121    0.000000\n",
              "Length: 65, dtype: float64"
            ]
          },
          "execution_count": 36,
          "metadata": {},
          "output_type": "execute_result"
        }
      ],
      "source": [
        "(df1.isnull().sum()/ df1.shape[0]).sort_values(ascending=False)"
      ]
    },
    {
      "cell_type": "code",
      "execution_count": 50,
      "metadata": {},
      "outputs": [
        {
          "ename": "SyntaxError",
          "evalue": "invalid syntax (Temp/ipykernel_5856/911363968.py, line 1)",
          "output_type": "error",
          "traceback": [
            "\u001b[1;36m  File \u001b[1;32m\"C:\\Users\\Lenovo\\AppData\\Local\\Temp/ipykernel_5856/911363968.py\"\u001b[1;36m, line \u001b[1;32m1\u001b[0m\n\u001b[1;33m    df1.(16).value_counts()\u001b[0m\n\u001b[1;37m        ^\u001b[0m\n\u001b[1;31mSyntaxError\u001b[0m\u001b[1;31m:\u001b[0m invalid syntax\n"
          ]
        }
      ],
      "source": [
        "df1.(16).value_counts() #burda 16.sütüna gidip hangi türde bir veri olduğunu anlamak için bu işlemi yapmak istedim fakat hata aldım "
      ]
    },
    {
      "cell_type": "code",
      "execution_count": 51,
      "metadata": {},
      "outputs": [],
      "source": [
        "#bu kısımda dersteki gibi bir pipeline oluşturmaya çalıştım fakat bütün columnları göremediğimiz için numerical categorical \n",
        "#bilmediğimiz için categorical olduğunu düşündüğüm 2 sütun için deneme yaptım. Çalışıyor gözükse de sütunlardaki boşluklar dolmadı\n",
        "#kontrol etmek için baktığım isnull kısmında 118.kolon hala null gözüküyor.\n",
        "\n",
        "#features_numerical = ['1', '13', '113']\n",
        "features_categorical = ['118', '16']\n",
        "#features_remove = ['Name', 'Cabin', 'Ticket', 'PassengerId']\n",
        "\n",
        "#numeric_transformer = Pipeline(steps=[\n",
        "    #('imputer', SimpleImputer(strategy='median')),\n",
        "    #('scaler', MinMaxScaler())])\n",
        "\n",
        "categorical_transformer = Pipeline(steps=[\n",
        "    ('imputer', SimpleImputer(strategy='most_frequent')),\n",
        "    ('onehot', OneHotEncoder())])\n",
        "\n",
        "preprocessor = ColumnTransformer(\n",
        "    transformers=[\n",
        "        #('Features numerical', numeric_transformer, features_numerical),\n",
        "        ('Features categorical', categorical_transformer, features_categorical),\n",
        "        #('Feature para remover', 'drop', features_remove)\n",
        "])"
      ]
    },
    {
      "cell_type": "code",
      "execution_count": 52,
      "metadata": {},
      "outputs": [
        {
          "data": {
            "text/plain": [
              "0        0\n",
              "1        0\n",
              "5        0\n",
              "6        0\n",
              "8        0\n",
              "      ... \n",
              "116      0\n",
              "117      0\n",
              "118    811\n",
              "120      0\n",
              "121      0\n",
              "Length: 65, dtype: int64"
            ]
          },
          "execution_count": 52,
          "metadata": {},
          "output_type": "execute_result"
        }
      ],
      "source": [
        "df1.isnull().sum()"
      ]
    }
  ],
  "metadata": {
    "colab": {
      "provenance": []
    },
    "kernelspec": {
      "display_name": "Python 3",
      "name": "python3"
    },
    "language_info": {
      "codemirror_mode": {
        "name": "ipython",
        "version": 3
      },
      "file_extension": ".py",
      "mimetype": "text/x-python",
      "name": "python",
      "nbconvert_exporter": "python",
      "pygments_lexer": "ipython3",
      "version": "3.9.7"
    }
  },
  "nbformat": 4,
  "nbformat_minor": 0
}
